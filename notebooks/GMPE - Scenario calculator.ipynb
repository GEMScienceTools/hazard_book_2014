{
 "metadata": {
  "name": "",
  "signature": "sha256:23f572b6a975998e7a85c5a333d34b7c13af2b2935899be3a4a70b47cca2d3f5"
 },
 "nbformat": 3,
 "nbformat_minor": 0,
 "worksheets": [
  {
   "cells": [
    {
     "cell_type": "heading",
     "level": 1,
     "metadata": {},
     "source": [
      "Scenario calculator"
     ]
    },
    {
     "cell_type": "markdown",
     "metadata": {},
     "source": [
      "In questo esempio utilizzando le funzionalit\u00e0 presenti nella hazard library di OpenQuake-engine calcoliamo campi di scuotimento per una data rottura. Questa corrisponde ad un rettangolo con un angolo di immersione di 45\u00b0 ed un aspect ratio pari a 2"
     ]
    },
    {
     "cell_type": "code",
     "collapsed": false,
     "input": [
      "import os\n",
      "import sys\n",
      "import numpy as np\n",
      "\n",
      "HOME = os.environ[\"HOME\"]\n",
      "sys.path.append(HOME+\"/Projects/oq-hazardlib\")\n",
      "\n",
      "from pyproj import Geod\n",
      "import matplotlib.pyplot as plt\n",
      "from mpl_toolkits.basemap import Basemap, cm\n",
      "\n",
      "from openquake.hazardlib.gsim.akkar_bommer_2010 import AkkarBommer2010 \n",
      "from openquake.hazardlib import const\n",
      "from openquake.hazardlib.source.rupture import Rupture\n",
      "from openquake.hazardlib.geo.surface.simple_fault import SimpleFaultSurface\n",
      "from openquake.hazardlib.geo import Point, Mesh, Line\n",
      "from openquake.hazardlib.scalerel.wc1994 import WC1994\n",
      "from openquake.hazardlib.gsim.base import SitesContext, RuptureContext, DistancesContext \n",
      "from openquake.hazardlib.imt import PGA\n",
      "from openquake.hazardlib.site import Site, SiteCollection"
     ],
     "language": "python",
     "metadata": {},
     "outputs": [],
     "prompt_number": 1
    },
    {
     "cell_type": "code",
     "collapsed": false,
     "input": [
      "# Parameters describing the rectangular rupture\n",
      "lon1, lat1 = (10.0, 45.0)\n",
      "aspect_ratio = 2.\n",
      "azimuth = 90.0\n",
      "mag = 7.0\n",
      "\n",
      "# Magnitude-scaling relationship \n",
      "mscr = WC1994()\n",
      "\n",
      "# Ground motion prediction equation and intensity measure type\n",
      "imt = PGA()\n",
      "gsim_ab = AkkarBommer2010()\n",
      "gsim_cy = Ch"
     ],
     "language": "python",
     "metadata": {},
     "outputs": [],
     "prompt_number": 2
    },
    {
     "cell_type": "markdown",
     "metadata": {},
     "source": [
      "Creiamo la rottura"
     ]
    },
    {
     "cell_type": "code",
     "collapsed": false,
     "input": [
      "# Compute the area of the rupture\n",
      "area = mscr.get_median_area(mag = mag, rake = 0.0)\n",
      "length = (area * aspect_ratio)**0.5\n",
      "\n",
      "# Find the second extreme of the fault trace\n",
      "g = Geod(ellps='WGS84')\n",
      "lon2, lat2, backaz = g.fwd(lon1, lat1, azimuth, length*1e3)\n",
      "\n",
      "# Create the rupture surface \n",
      "rupture_surface = SimpleFaultSurface.from_fault_data(\n",
      "    fault_trace = Line([Point(lon1, lat1), Point(lon2, lat2)]), \n",
      "    upper_seismogenic_depth = 0.0, \n",
      "    lower_seismogenic_depth = 15.0, \n",
      "    dip = 45.0, \n",
      "    mesh_spacing = 10.0)"
     ],
     "language": "python",
     "metadata": {},
     "outputs": [],
     "prompt_number": 3
    },
    {
     "cell_type": "code",
     "collapsed": false,
     "input": [
      "# Fixing the computation grid\n",
      "lon_min, lon_max, lat_min, lat_max = (9.0, 11.0, 44.0, 46.0) \n",
      "lon_grd, lat_grd = np.meshgrid(np.linspace(lon_min, lon_max, 50), np.linspace(lat_min, lat_max, 50))\n",
      "lon_grd = np.squeeze( lon_grd.reshape(np.size(lon_grd),1) )\n",
      "lat_grd = np.squeeze( lat_grd.reshape(np.size(lat_grd),1) )\n",
      "mesh = Mesh(lons=lon_grd, lats=lat_grd, depths=None)\n",
      "\n",
      "# Creating the site collection\n",
      "sit = []\n",
      "for lon, lat in zip(lon_grd, lat_grd):\n",
      "    sit.append(\n",
      "        Site(location = Point(lon,lat), \n",
      "             vs30 = 760, \n",
      "             vs30measured = 1, \n",
      "             z1pt0 = 100, \n",
      "             z2pt5 = 1\n",
      "             )\n",
      "        )\n",
      "sites = SiteCollection(sit)\n",
      "\n",
      "#\u00a0Setting parameters\n",
      "stddev_types = [const.StdDev.TOTAL]\n",
      "sctx = SitesContext()\n",
      "rctx = RuptureContext()\n",
      "dctx = DistancesContext()\n",
      "\n",
      "#\u00a0Site parameters\n",
      "sctx.vs30 = 760.0 * np.ones_like(lon_grd)\n",
      "sctx.z1pt0 = 100.0 * np.ones_like(lon_grd)\n",
      "sctx.vs30measured = np.ones_like(lon_grd)"
     ],
     "language": "python",
     "metadata": {},
     "outputs": [],
     "prompt_number": 4
    },
    {
     "cell_type": "markdown",
     "metadata": {},
     "source": [
      "Calcolo i valori medi del logaritmo dello scuotimento e la deviazione standard totale"
     ]
    },
    {
     "cell_type": "code",
     "collapsed": false,
     "input": [
      "# Rupture-sites distance\n",
      "dctx.rjb = rupture_surface.get_joyner_boore_distance(mesh)\n",
      "    \n",
      "# Rupture parameters\n",
      "rctx.mag = mag\n",
      "rctx.rake = 0.0\n",
      "\n",
      "# Computing ground motion\n",
      "mean, stddev = gsim.get_mean_and_stddevs(sctx, rctx, dctx, imt, [const.StdDev.TOTAL]) \n",
      "\n",
      "#mean = mean.reshape(mean.shape + (1, ))\n",
      "mean = mean.reshape(mean.size)\n",
      "stddev = stddev.reshape(stddev.size)\n",
      "\n",
      "print mean.shape, stddev.shape\n",
      "\n",
      "gmf_median = gsim.to_imt_unit_values(mean)\n",
      "gmf_plus_1std = gsim.to_imt_unit_values(mean + stddev)\n",
      "\n",
      "print gmf_plus_1std.shape"
     ],
     "language": "python",
     "metadata": {},
     "outputs": [
      {
       "output_type": "stream",
       "stream": "stdout",
       "text": [
        "(2500,) (2500,)\n",
        "(2500,)\n"
       ]
      }
     ],
     "prompt_number": 5
    },
    {
     "cell_type": "markdown",
     "metadata": {},
     "source": [
      "Rappresento mappa dei valori mediani"
     ]
    },
    {
     "cell_type": "code",
     "collapsed": false,
     "input": [
      "lon0, lat0, lon1, lat1 = (lon_min, lat_min, lon_max, lat_max)\n",
      "\n",
      "plt.rcParams['figure.figsize'] = (10,6)\n",
      "m = Basemap(projection='merc',llcrnrlat=lat0,urcrnrlat=lat1,\n",
      "            llcrnrlon=lon0,urcrnrlon=lon1,lat_ts=44.5,resolution='i')\n",
      "\n",
      "m.drawparallels(np.arange(lat0,lat1,0.5))\n",
      "m.drawmeridians(np.arange(lon0,lon1,0.5))\n",
      "\n",
      "x,y = m(lon_grd,lat_grd)\n",
      "m.scatter(x,y, c=np.squeeze(np.array(gmf_median)), s=10, vmin=0.0, vmax=0.6, marker = 's', lw = 0)\n",
      "cb = plt.colorbar()\n",
      "cb.set_label(r'PGA [g]')"
     ],
     "language": "python",
     "metadata": {},
     "outputs": [
      {
       "metadata": {},
       "output_type": "display_data",
       "png": "[encoded data removed]",
       "text": [
        "<matplotlib.figure.Figure at 0x103b1c0d0>"
       ]
      }
     ],
     "prompt_number": 6
    },
    {
     "cell_type": "markdown",
     "metadata": {},
     "source": [
      "Rappresento mappa dei valori mediani + una deviazione standard"
     ]
    },
    {
     "cell_type": "code",
     "collapsed": false,
     "input": [
      "plt.rcParams['figure.figsize'] = (10,6)\n",
      "m = Basemap(projection='merc',llcrnrlat=lat0,urcrnrlat=lat1,\n",
      "            llcrnrlon=lon0,urcrnrlon=lon1,lat_ts=44.5,resolution='i')\n",
      "\n",
      "m.drawparallels(np.arange(lat0,lat1,0.5))\n",
      "m.drawmeridians(np.arange(lon0,lon1,0.5))\n",
      "\n",
      "x,y = m(lon_grd,lat_grd)\n",
      "m.scatter(x,y, c=np.squeeze(np.array(gmf_plus_1std)), s=10, vmin=0.0, vmax=0.6, marker = 's', lw = 0)\n",
      "cb = plt.colorbar()\n",
      "cb.set_label(r'PGA [g]')"
     ],
     "language": "python",
     "metadata": {},
     "outputs": [
      {
       "metadata": {},
       "output_type": "display_data",
       "png": "[encoded data removed]",
       "text": [
        "<matplotlib.figure.Figure at 0x1055af190>"
       ]
      }
     ],
     "prompt_number": 7
    },
    {
     "cell_type": "code",
     "collapsed": false,
     "input": [],
     "language": "python",
     "metadata": {},
     "outputs": [],
     "prompt_number": 7
    }
   ],
   "metadata": {}
  }
 ]
}